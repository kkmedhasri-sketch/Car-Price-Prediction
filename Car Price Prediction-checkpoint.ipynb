{
 "cells": [
  {
   "cell_type": "code",
   "execution_count": 1,
   "id": "068bbfda-dafb-403f-a4c8-c91b99643bbb",
   "metadata": {},
   "outputs": [],
   "source": [
    "# 🚗 Car Price Prediction with Machine Learning\n",
    "\n",
    "# Step 1: Import libraries\n",
    "import pandas as pd\n",
    "import numpy as np\n",
    "import matplotlib.pyplot as plt\n",
    "import seaborn as sns\n",
    "\n",
    "from sklearn.model_selection import train_test_split\n",
    "from sklearn.preprocessing import LabelEncoder\n",
    "from sklearn.linear_model import LinearRegression\n",
    "from sklearn.ensemble import RandomForestRegressor\n",
    "from sklearn.metrics import r2_score, mean_squared_error"
   ]
  },
  {
   "cell_type": "code",
   "execution_count": 2,
   "id": "67224736-234e-4710-a4e4-ead266d9e8a2",
   "metadata": {},
   "outputs": [
    {
     "name": "stdout",
     "output_type": "stream",
     "text": [
      "✅ First 5 rows of dataset:\n",
      "  Car_Name  Year  Selling_Price  Present_Price  Driven_kms Fuel_Type  \\\n",
      "0     ritz  2014           3.35           5.59       27000    Petrol   \n",
      "1      sx4  2013           4.75           9.54       43000    Diesel   \n",
      "2     ciaz  2017           7.25           9.85        6900    Petrol   \n",
      "3  wagon r  2011           2.85           4.15        5200    Petrol   \n",
      "4    swift  2014           4.60           6.87       42450    Diesel   \n",
      "\n",
      "  Selling_type Transmission  Owner  \n",
      "0       Dealer       Manual      0  \n",
      "1       Dealer       Manual      0  \n",
      "2       Dealer       Manual      0  \n",
      "3       Dealer       Manual      0  \n",
      "4       Dealer       Manual      0  \n",
      "\n",
      "✅ Dataset Info:\n",
      "<class 'pandas.core.frame.DataFrame'>\n",
      "RangeIndex: 301 entries, 0 to 300\n",
      "Data columns (total 9 columns):\n",
      " #   Column         Non-Null Count  Dtype  \n",
      "---  ------         --------------  -----  \n",
      " 0   Car_Name       301 non-null    object \n",
      " 1   Year           301 non-null    int64  \n",
      " 2   Selling_Price  301 non-null    float64\n",
      " 3   Present_Price  301 non-null    float64\n",
      " 4   Driven_kms     301 non-null    int64  \n",
      " 5   Fuel_Type      301 non-null    object \n",
      " 6   Selling_type   301 non-null    object \n",
      " 7   Transmission   301 non-null    object \n",
      " 8   Owner          301 non-null    int64  \n",
      "dtypes: float64(2), int64(3), object(4)\n",
      "memory usage: 21.3+ KB\n",
      "None\n"
     ]
    }
   ],
   "source": [
    "# Step 2: Load dataset\n",
    "df = pd.read_csv(r\"C:\\Users\\MEDHA SRI\\Downloads\\car data.csv\")\n",
    "\n",
    "print(\"✅ First 5 rows of dataset:\")\n",
    "print(df.head())\n",
    "print(\"\\n✅ Dataset Info:\")\n",
    "print(df.info())\n"
   ]
  },
  {
   "cell_type": "code",
   "execution_count": 3,
   "id": "50033601-3e57-418d-ae0f-5b0c5c6e76cc",
   "metadata": {},
   "outputs": [
    {
     "name": "stdout",
     "output_type": "stream",
     "text": [
      "\n",
      "✅ After encoding categorical columns:\n",
      "   Car_Name  Year  Selling_Price  Present_Price  Driven_kms  Fuel_Type  \\\n",
      "0        90  2014           3.35           5.59       27000          2   \n",
      "1        93  2013           4.75           9.54       43000          1   \n",
      "2        68  2017           7.25           9.85        6900          2   \n",
      "3        96  2011           2.85           4.15        5200          2   \n",
      "4        92  2014           4.60           6.87       42450          1   \n",
      "\n",
      "   Selling_type  Transmission  Owner  \n",
      "0             0             1      0  \n",
      "1             0             1      0  \n",
      "2             0             1      0  \n",
      "3             0             1      0  \n",
      "4             0             1      0  \n"
     ]
    }
   ],
   "source": [
    "# Step 3: Data preprocessing\n",
    "# Encode categorical features\n",
    "le = LabelEncoder()\n",
    "for col in df.select_dtypes(include=['object']).columns:\n",
    "    df[col] = le.fit_transform(df[col])\n",
    "\n",
    "print(\"\\n✅ After encoding categorical columns:\")\n",
    "print(df.head())\n",
    "\n"
   ]
  },
  {
   "cell_type": "code",
   "execution_count": 4,
   "id": "536bbbc3-552c-499c-b496-c59e2cd26a17",
   "metadata": {},
   "outputs": [],
   "source": [
    "# Step 4: Define features and target\n",
    "X = df.drop(\"Selling_Price\", axis=1)  # Independent variables\n",
    "y = df[\"Selling_Price\"]               # Target variable\n",
    "\n"
   ]
  },
  {
   "cell_type": "code",
   "execution_count": 5,
   "id": "84875d05-79b2-46d7-8945-1dd1cf704aa1",
   "metadata": {},
   "outputs": [],
   "source": [
    "# Step 5: Train-Test Split\n",
    "X_train, X_test, y_train, y_test = train_test_split(X, y, test_size=0.2, random_state=42)\n",
    "\n"
   ]
  },
  {
   "cell_type": "code",
   "execution_count": 6,
   "id": "d1fb1161-0fa5-4774-901d-d3469cb4c66d",
   "metadata": {},
   "outputs": [],
   "source": [
    "# Step 6: Train models\n",
    "\n",
    "# Linear Regression\n",
    "lr = LinearRegression()\n",
    "lr.fit(X_train, y_train)\n",
    "y_pred_lr = lr.predict(X_test)\n",
    "\n",
    "# Random Forest Regressor\n",
    "rf = RandomForestRegressor(n_estimators=200, random_state=42)\n",
    "rf.fit(X_train, y_train)\n",
    "y_pred_rf = rf.predict(X_test)\n"
   ]
  },
  {
   "cell_type": "code",
   "execution_count": 7,
   "id": "ddd77850-e952-453e-a696-e0a22477fac7",
   "metadata": {},
   "outputs": [
    {
     "name": "stdout",
     "output_type": "stream",
     "text": [
      "\n",
      "📊 Model Performance:\n",
      "\n",
      "🔹 Linear Regression:\n",
      "R2 Score: 0.8464540623822294\n",
      "RMSE: 1.8806967920803632\n",
      "\n",
      "🔹 Random Forest Regressor:\n",
      "R2 Score: 0.9639558190400653\n",
      "RMSE: 0.9112073183239974\n"
     ]
    }
   ],
   "source": [
    "# Step 7: Evaluation\n",
    "print(\"\\n📊 Model Performance:\")\n",
    "\n",
    "print(\"\\n🔹 Linear Regression:\")\n",
    "print(\"R2 Score:\", r2_score(y_test, y_pred_lr))\n",
    "print(\"RMSE:\", np.sqrt(mean_squared_error(y_test, y_pred_lr)))\n",
    "\n",
    "print(\"\\n🔹 Random Forest Regressor:\")\n",
    "print(\"R2 Score:\", r2_score(y_test, y_pred_rf))\n",
    "print(\"RMSE:\", np.sqrt(mean_squared_error(y_test, y_pred_rf)))\n",
    "\n"
   ]
  },
  {
   "cell_type": "code",
   "execution_count": 8,
   "id": "8b65221f-b171-40c5-8f85-aa1012a407fd",
   "metadata": {},
   "outputs": [
    {
     "data": {
      "image/png": "[encoded data removed]",
      "text/plain": [
       "<Figure size 800x500 with 1 Axes>"
      ]
     },
     "metadata": {},
     "output_type": "display_data"
    }
   ],
   "source": [
    "# Step 8: Visualization\n",
    "plt.figure(figsize=(8,5))\n",
    "plt.scatter(y_test, y_pred_rf, color=\"blue\", label=\"Predicted vs Actual\")\n",
    "plt.xlabel(\"Actual Selling Price\")\n",
    "plt.ylabel(\"Predicted Selling Price\")\n",
    "plt.title(\"Random Forest - Car Price Prediction\")\n",
    "plt.legend()\n",
    "plt.show()\n"
   ]
  },
  {
   "cell_type": "code",
   "execution_count": null,
   "id": "ad7b2fd3-6f13-4ee6-b56c-e5a36ea8b32c",
   "metadata": {},
   "outputs": [],
   "source": []
  }
 ],
 "metadata": {
  "kernelspec": {
   "display_name": "Python 3 (ipykernel)",
   "language": "python",
   "name": "python3"
  },
  "language_info": {
   "codemirror_mode": {
    "name": "ipython",
    "version": 3
   },
   "file_extension": ".py",
   "mimetype": "text/x-python",
   "name": "python",
   "nbconvert_exporter": "python",
   "pygments_lexer": "ipython3",
   "version": "3.12.5"
  }
 },
 "nbformat": 4,
 "nbformat_minor": 5
}
